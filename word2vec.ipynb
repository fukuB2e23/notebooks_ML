{
 "cells": [
  {
   "cell_type": "code",
   "execution_count": 21,
   "metadata": {},
   "outputs": [
    {
     "name": "stdout",
     "output_type": "stream",
     "text": [
      "2019-06-15 09:59:37.386232\n",
      "2019-06-15 09:59:39.879462\n",
      "end proc.1\n"
     ]
    }
   ],
   "source": [
    "# coding:utf-8\n",
    "import glob\n",
    "import datetime\n",
    "\n",
    "# ファイル読み込み\n",
    "def file_read(path):\n",
    "    f = open(path, 'r', encoding='utf-8')\n",
    "    lines = f.readlines()\n",
    "    f.close()\n",
    "    \n",
    "    return lines\n",
    "\n",
    "def show_datetime():\n",
    "    print(datetime.datetime.now())\n",
    "\n",
    "\n",
    "file_lists = glob.glob(\"input/wiki_ja_edit/*\")\n",
    "#file_lists = glob.glob(\"input/test/*\")\n",
    "file_datas = []\n",
    "\n",
    "show_datetime()\n",
    "\n",
    "# 全ファイルデータ取得\n",
    "for path in file_lists:\n",
    "    file_datas.append(file_read(path))\n",
    "    #print(path)\n",
    "    \n",
    "show_datetime()\n",
    "print(\"end proc.1\")"
   ]
  },
  {
   "cell_type": "code",
   "execution_count": 22,
   "metadata": {},
   "outputs": [
    {
     "name": "stdout",
     "output_type": "stream",
     "text": [
      "2019-06-15 09:59:39.893148\n",
      "2019-06-15 10:02:43.674254\n",
      "end proc.2\n"
     ]
    }
   ],
   "source": [
    "# Mecabによる形態素解析\n",
    "import MeCab\n",
    "\n",
    "# mecab-ipadic-neologd\n",
    "mecab = MeCab.Tagger ('-d /usr/lib/x86_64-linux-gnu/mecab/dic/mecab-ipadic-neologd')\n",
    "word_pos= []\n",
    "\n",
    "show_datetime()\n",
    "for file_data in file_datas:\n",
    "    tmp = []\n",
    "    for sentence in file_data:\n",
    "        words = mecab.parse(sentence).splitlines()\n",
    "        for word in words:\n",
    "            tmp.append(word)\n",
    "    word_pos.append(tmp)\n",
    "\n",
    "#print(word_pos)\n",
    "show_datetime()\n",
    "print(\"end proc.2\")"
   ]
  },
  {
   "cell_type": "code",
   "execution_count": 25,
   "metadata": {},
   "outputs": [
    {
     "name": "stdout",
     "output_type": "stream",
     "text": [
      "2019-06-15 10:11:24.294140\n",
      "5977\n",
      "2019-06-15 10:13:30.296265\n",
      "end proc.3\n"
     ]
    }
   ],
   "source": [
    "# 指定した品詞の原型情報だけ取得\n",
    "def get_selection_pos(data,selection_pos):\n",
    "    target_text = []\n",
    "\n",
    "    for file in data:\n",
    "        tmp = []\n",
    "        idx = -1\n",
    "        \n",
    "        for line in file:\n",
    "            feature = line.split(',')\n",
    "            if len(feature) == 9:\n",
    "                node = feature[0].split(\"\\t\")\n",
    "                if len(node) == 2:\n",
    "                    if node[1] in selection_pos:\n",
    "                        tmp.append(feature[6])\n",
    "                \n",
    "        #target_text.append(tmp)\n",
    "        target_text.append(\" \".join(tmp))\n",
    "        \n",
    "    return target_text\n",
    "\n",
    "# ファイル出力\n",
    "def file_write(path,data):\n",
    "    str_ = '\\n'.join(data)\n",
    "    f = open(path,'w',encoding='utf-8')\n",
    "    f.write(str_)\n",
    "    f.close()\n",
    "\n",
    "show_datetime()\n",
    "\n",
    "#selection_pos = [\"動詞\", \"形容詞\", \"形容動詞\"]\n",
    "selection_pos = [\"名詞\", \"形容詞\", \"形容動詞\"]\n",
    "\n",
    "#target_text.append(\" \".join(tmp)) wakachi-gaki\n",
    "target_wakachi = get_selection_pos(word_pos,selection_pos)\n",
    "print(len(target_wakachi))\n",
    "#print(target_wakachi)\n",
    "\n",
    "file_write(\"output/wiki_ja_wakachi.txt\",target_wakachi)\n",
    "\n",
    "show_datetime()\n",
    "print(\"end proc.3\")"
   ]
  },
  {
   "cell_type": "code",
   "execution_count": 28,
   "metadata": {},
   "outputs": [
    {
     "name": "stdout",
     "output_type": "stream",
     "text": [
      "2019-06-15 10:53:24.113027\n"
     ]
    },
    {
     "name": "stderr",
     "output_type": "stream",
     "text": [
      "/usr/local/lib/python3.6/site-packages/smart_open/smart_open_lib.py:398: UserWarning: This function is deprecated, use smart_open.open instead. See the migration notes for details: https://github.com/RaRe-Technologies/smart_open/blob/master/README.rst#migrating-to-the-new-open-function\n",
      "  'See the migration notes for details: %s' % _MIGRATION_NOTES_URL\n",
      "/usr/local/lib/python3.6/site-packages/smart_open/smart_open_lib.py:398: UserWarning: This function is deprecated, use smart_open.open instead. See the migration notes for details: https://github.com/RaRe-Technologies/smart_open/blob/master/README.rst#migrating-to-the-new-open-function\n",
      "  'See the migration notes for details: %s' % _MIGRATION_NOTES_URL\n"
     ]
    },
    {
     "name": "stdout",
     "output_type": "stream",
     "text": [
      "2019-06-15 11:11:55.273530\n",
      "end proc.4\n"
     ]
    }
   ],
   "source": [
    "from gensim.models import word2vec\n",
    "\n",
    "show_datetime()\n",
    "\n",
    "sentences = word2vec.LineSentence(\"output/wiki_ja_wakachi.txt\")\n",
    "model = word2vec.Word2Vec(sentences,sg=1,size=300,window=5,min_count=3)\n",
    "model.save(\"output/wiki_ja.model\")\n",
    "\n",
    "#上位２０単語の出力\n",
    "#model.most_similar(positive='稲葉', topn=20)\n",
    "\n",
    "#model = word2vec.Word2Vec(sentences,\n",
    "#                          sg=1,         #0: CBOW, 1: skip-gram\n",
    "#                          size=300,     # ベクトルの次元数\n",
    "#                          window=5,    # 入力単語からの最大距離\n",
    "#                          min_count=5,  # 単語の出現回数でフィルタリング\n",
    "#                          )\n",
    "#model.most_similar(positive='マジ卍', topn=20)\n",
    "\n",
    "show_datetime()\n",
    "print(\"end proc.4\")"
   ]
  },
  {
   "cell_type": "code",
   "execution_count": 52,
   "metadata": {},
   "outputs": [
    {
     "name": "stdout",
     "output_type": "stream",
     "text": [
      "2019-06-15 11:42:06.263729\n",
      "('ドラえもん', 0.8528804183006287)\n",
      "('ジャイアン', 0.7883387804031372)\n",
      "('スネ夫', 0.7862170934677124)\n",
      "('ドラミ', 0.778557538986206)\n",
      "('しずか', 0.7345136404037476)\n",
      "('てんとう虫コミックス', 0.7020083069801331)\n",
      "('創世日記', 0.6686700582504272)\n",
      "('セワシ', 0.666680097579956)\n",
      "('出木杉', 0.658141553401947)\n",
      "('ひみつ道具', 0.6549124121665955)\n",
      "('ミニドラ', 0.6485297679901123)\n",
      "('ピー助', 0.6472761034965515)\n",
      "('しょんぼり', 0.6447363495826721)\n",
      "('どこでもドア', 0.6328967809677124)\n",
      "('タケコプター', 0.6311659216880798)\n",
      "('うつつまくら', 0.619232177734375)\n",
      "('野比', 0.6185288429260254)\n",
      "('大長編', 0.6184296607971191)\n",
      "('もしもボックス', 0.6146755218505859)\n",
      "('四次元ポケット', 0.6108588576316833)\n",
      "2019-06-15 11:42:06.306609\n",
      "end proc.4\n"
     ]
    }
   ],
   "source": [
    "show_datetime()\n",
    "\n",
    "word = \"のび太\"\n",
    "\n",
    "try:\n",
    "    #上位２０単語の出力\n",
    "    result = model.wv.most_similar(positive=word, topn=20)\n",
    "    for res in result:\n",
    "        print(res)\n",
    "\n",
    "except KeyError as error:\n",
    "    print(\"[\"+word+\"]は見つからなかったナリ\")\n",
    "\n",
    "\n",
    "#稲葉浩志\n",
    "\n",
    "show_datetime()\n",
    "\n",
    "\n",
    "print(\"end proc.4\")"
   ]
  },
  {
   "cell_type": "code",
   "execution_count": 54,
   "metadata": {},
   "outputs": [
    {
     "name": "stdout",
     "output_type": "stream",
     "text": [
      "2019-06-15 12:18:05.895267\n"
     ]
    },
    {
     "name": "stderr",
     "output_type": "stream",
     "text": [
      "/usr/local/lib/python3.6/site-packages/smart_open/smart_open_lib.py:398: UserWarning: This function is deprecated, use smart_open.open instead. See the migration notes for details: https://github.com/RaRe-Technologies/smart_open/blob/master/README.rst#migrating-to-the-new-open-function\n",
      "  'See the migration notes for details: %s' % _MIGRATION_NOTES_URL\n"
     ]
    },
    {
     "name": "stdout",
     "output_type": "stream",
     "text": [
      "('ドラえもん', 0.8528804183006287)\n",
      "('ジャイアン', 0.7883387804031372)\n",
      "('スネ夫', 0.7862170934677124)\n",
      "('ドラミ', 0.778557538986206)\n",
      "('しずか', 0.7345136404037476)\n",
      "('てんとう虫コミックス', 0.7020083069801331)\n",
      "('創世日記', 0.6686700582504272)\n",
      "('セワシ', 0.666680097579956)\n",
      "('出木杉', 0.658141553401947)\n",
      "('ひみつ道具', 0.6549124121665955)\n",
      "('ミニドラ', 0.6485297679901123)\n",
      "('ピー助', 0.6472761034965515)\n",
      "('しょんぼり', 0.6447363495826721)\n",
      "('どこでもドア', 0.6328967809677124)\n",
      "('タケコプター', 0.6311659216880798)\n",
      "('うつつまくら', 0.619232177734375)\n",
      "('野比', 0.6185288429260254)\n",
      "('大長編', 0.6184296607971191)\n",
      "('もしもボックス', 0.6146755218505859)\n",
      "('四次元ポケット', 0.6108588576316833)\n",
      "2019-06-15 12:18:17.207763\n",
      "end proc.5\n"
     ]
    }
   ],
   "source": [
    "show_datetime()\n",
    "\n",
    "word = \"のび太\"\n",
    "\n",
    "#model load\n",
    "model2 = word2vec.Word2Vec.load(\"output/wiki_ja.model\")\n",
    "\n",
    "try:\n",
    "    #上位２０単語の出力\n",
    "    result = model2.wv.most_similar(positive=word, topn=20)\n",
    "    for res in result:\n",
    "        print(res)\n",
    "\n",
    "except KeyError as error:\n",
    "    print(\"[\"+word+\"]は見つからなかったナリ\")\n",
    "\n",
    "\n",
    "#稲葉浩志\n",
    "\n",
    "show_datetime()\n",
    "\n",
    "\n",
    "print(\"end proc.5\")"
   ]
  },
  {
   "cell_type": "code",
   "execution_count": 55,
   "metadata": {},
   "outputs": [
    {
     "name": "stderr",
     "output_type": "stream",
     "text": [
      "/usr/local/lib/python3.6/site-packages/smart_open/smart_open_lib.py:398: UserWarning: This function is deprecated, use smart_open.open instead. See the migration notes for details: https://github.com/RaRe-Technologies/smart_open/blob/master/README.rst#migrating-to-the-new-open-function\n",
      "  'See the migration notes for details: %s' % _MIGRATION_NOTES_URL\n"
     ]
    }
   ],
   "source": [
    "# save as vector（１行目は単語数とベクトルの次元の情報）\n",
    "model.wv.save_word2vec_format(\"output/wiki_ja.model.vec\",binary=False)"
   ]
  },
  {
   "cell_type": "code",
   "execution_count": null,
   "metadata": {},
   "outputs": [],
   "source": []
  }
 ],
 "metadata": {
  "kernelspec": {
   "display_name": "Python 3",
   "language": "python",
   "name": "python3"
  },
  "language_info": {
   "codemirror_mode": {
    "name": "ipython",
    "version": 3
   },
   "file_extension": ".py",
   "mimetype": "text/x-python",
   "name": "python",
   "nbconvert_exporter": "python",
   "pygments_lexer": "ipython3",
   "version": "3.6.8"
  }
 },
 "nbformat": 4,
 "nbformat_minor": 2
}
