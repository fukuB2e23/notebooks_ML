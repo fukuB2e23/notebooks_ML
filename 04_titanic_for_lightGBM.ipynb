{
 "cells": [
  {
   "cell_type": "code",
   "execution_count": 1,
   "metadata": {},
   "outputs": [
    {
     "name": "stdout",
     "output_type": "stream",
     "text": [
      "CPU times: user 153 ms, sys: 29.7 ms, total: 183 ms\n",
      "Wall time: 262 ms\n"
     ]
    }
   ],
   "source": [
    "%%time\n",
    "\n",
    "#titanicコンペ\n",
    "%matplotlib inline\n",
    "import numpy as np\n",
    "import pandas as pd\n",
    "import re as re\n",
    "import warnings\n",
    "# filter warnings\n",
    "warnings.filterwarnings('ignore')\n",
    "\n",
    "#データファイルの読み込み\n",
    "train = pd.read_csv(\"../../input/titanic/train.csv\")\n",
    "test = pd.read_csv(\"../../input/titanic/test.csv\")\n",
    "gender_submission = pd.read_csv(\"../../input/titanic/gender_submission.csv\")"
   ]
  },
  {
   "cell_type": "code",
   "execution_count": 2,
   "metadata": {},
   "outputs": [
    {
     "name": "stdout",
     "output_type": "stream",
     "text": [
      "(1309, 12)\n",
      "CPU times: user 13.1 ms, sys: 0 ns, total: 13.1 ms\n",
      "Wall time: 13.2 ms\n"
     ]
    }
   ],
   "source": [
    "%%time\n",
    "#特徴量エンジニアリング-start\n",
    "#kaggleではtrainとtestを結合\n",
    "data = pd.concat([train,test])\n",
    "print(data.shape)\n",
    "#data.head()\n",
    "\n",
    "#Sex:性別は文字列なので数値に変換する:inplaceオプションで元データも書き換え\n",
    "data['Sex'].replace(['male','female'],[0, 1], inplace=True)\n",
    "\n",
    "#Embarkedには欠損値があるので大多数を占める「S」でうめる\n",
    "data['Embarked'].fillna(('S'), inplace=True)\n",
    "##Embarkedは文字列なので数値に変換\n",
    "data['Embarked'] = data['Embarked'].map( {'S': 0, 'C': 1, 'Q': 2} ).astype(int)\n",
    "\n",
    "#運賃も関係あるかも\n",
    "#一つ欠損値が存在するため平均値で埋める\n",
    "data['Fare'].fillna(np.mean(data['Fare']), inplace=True)\n",
    "data['Sex'].value_counts()\n",
    "data['Embarked'].value_counts()\n",
    "#data['Fare'].value_counts()\n",
    "\n"
   ]
  },
  {
   "cell_type": "code",
   "execution_count": 3,
   "metadata": {},
   "outputs": [
    {
     "data": {
      "image/png": "[encoded data removed]",
      "text/plain": [
       "<Figure size 432x288 with 1 Axes>"
      ]
     },
     "metadata": {
      "needs_background": "light"
     },
     "output_type": "display_data"
    }
   ],
   "source": [
    "#家族の人数が多いと生存率がさがるのでは？という仮設を立てる\n",
    "#「家族の人数」を示す特徴量を作る\n",
    "#データの中に「Parch：兄弟姉妹/配偶者の数」、「SibSp：親子の数」があるので\n",
    "#これを足して特徴量を生成\n",
    "data['Family_Size'] = data['Parch'] + data['SibSp'] + 1\n",
    "train['Family_Size'] = data['Family_Size'][:len(train)]\n",
    "test['Family_Size'] = data['Family_Size'][len(train):]\n",
    "\n",
    "import matplotlib.pyplot as plt\n",
    "import seaborn as sns\n",
    "sns.countplot(x='Family_Size', data = train, hue = 'Survived')\n",
    "\n",
    "#一人だけの乗客と5人以上の家族連れは生存率が低い\n",
    "#「一人だけ」という特徴量も作る\n",
    "\n",
    "data['IsAlone'] = 0\n",
    "data.loc[data['Family_Size'] == 1, 'IsAlone'] = 1\n",
    "\n",
    "train['IsAlone'] = data['IsAlone'][:len(train)]\n",
    "test['IsAlone'] = data['IsAlone'][len(train):]\n",
    "\n",
    "#train.head()"
   ]
  },
  {
   "cell_type": "code",
   "execution_count": 4,
   "metadata": {},
   "outputs": [
    {
     "name": "stdout",
     "output_type": "stream",
     "text": [
      "CPU times: user 2.96 ms, sys: 462 µs, total: 3.42 ms\n",
      "Wall time: 2.53 ms\n"
     ]
    }
   ],
   "source": [
    "%%time\n",
    "#運賃も欠損値が存在するため平均値で埋める\n",
    "data['Fare'].fillna(np.mean(data['Fare']), inplace=True)\n",
    "\n",
    "#Age：年齢も加味してみる\n",
    "age_avg = data['Age'].mean()\n",
    "age_std = data['Age'].std()\n",
    "#平均年齢に標準へ差の幅で欠損値を埋める\n",
    "data['Age'].fillna(np.random.randint(age_avg - age_std, age_avg + age_std), inplace=True)\n",
    "#train.head()\n",
    "#data.head()\n",
    "\n",
    "#とりあえずここまでで特徴量を考慮しなかった列は削除\n",
    "delete_columns = ['Name', 'PassengerId', 'SibSp', 'Parch', 'Ticket', 'Cabin']\n",
    "data.drop(delete_columns, axis = 1, inplace = True)"
   ]
  },
  {
   "cell_type": "code",
   "execution_count": 26,
   "metadata": {},
   "outputs": [
    {
     "name": "stdout",
     "output_type": "stream",
     "text": [
      "(891, 8)\n"
     ]
    },
    {
     "data": {
      "text/html": [
       "<div>\n",
       "<style scoped>\n",
       "    .dataframe tbody tr th:only-of-type {\n",
       "        vertical-align: middle;\n",
       "    }\n",
       "\n",
       "    .dataframe tbody tr th {\n",
       "        vertical-align: top;\n",
       "    }\n",
       "\n",
       "    .dataframe thead th {\n",
       "        text-align: right;\n",
       "    }\n",
       "</style>\n",
       "<table border=\"1\" class=\"dataframe\">\n",
       "  <thead>\n",
       "    <tr style=\"text-align: right;\">\n",
       "      <th></th>\n",
       "      <th>Age</th>\n",
       "      <th>Embarked</th>\n",
       "      <th>Fare</th>\n",
       "      <th>Pclass</th>\n",
       "      <th>Sex</th>\n",
       "      <th>Survived</th>\n",
       "      <th>Family_Size</th>\n",
       "      <th>IsAlone</th>\n",
       "    </tr>\n",
       "  </thead>\n",
       "  <tbody>\n",
       "    <tr>\n",
       "      <th>0</th>\n",
       "      <td>22.0</td>\n",
       "      <td>0</td>\n",
       "      <td>7.2500</td>\n",
       "      <td>3</td>\n",
       "      <td>0</td>\n",
       "      <td>0.0</td>\n",
       "      <td>2</td>\n",
       "      <td>0</td>\n",
       "    </tr>\n",
       "    <tr>\n",
       "      <th>1</th>\n",
       "      <td>38.0</td>\n",
       "      <td>1</td>\n",
       "      <td>71.2833</td>\n",
       "      <td>1</td>\n",
       "      <td>1</td>\n",
       "      <td>1.0</td>\n",
       "      <td>2</td>\n",
       "      <td>0</td>\n",
       "    </tr>\n",
       "    <tr>\n",
       "      <th>2</th>\n",
       "      <td>26.0</td>\n",
       "      <td>0</td>\n",
       "      <td>7.9250</td>\n",
       "      <td>3</td>\n",
       "      <td>1</td>\n",
       "      <td>1.0</td>\n",
       "      <td>1</td>\n",
       "      <td>1</td>\n",
       "    </tr>\n",
       "    <tr>\n",
       "      <th>3</th>\n",
       "      <td>35.0</td>\n",
       "      <td>0</td>\n",
       "      <td>53.1000</td>\n",
       "      <td>1</td>\n",
       "      <td>1</td>\n",
       "      <td>1.0</td>\n",
       "      <td>2</td>\n",
       "      <td>0</td>\n",
       "    </tr>\n",
       "    <tr>\n",
       "      <th>4</th>\n",
       "      <td>35.0</td>\n",
       "      <td>0</td>\n",
       "      <td>8.0500</td>\n",
       "      <td>3</td>\n",
       "      <td>0</td>\n",
       "      <td>0.0</td>\n",
       "      <td>1</td>\n",
       "      <td>1</td>\n",
       "    </tr>\n",
       "  </tbody>\n",
       "</table>\n",
       "</div>"
      ],
      "text/plain": [
       "    Age  Embarked     Fare  Pclass  Sex  Survived  Family_Size  IsAlone\n",
       "0  22.0         0   7.2500       3    0       0.0            2        0\n",
       "1  38.0         1  71.2833       1    1       1.0            2        0\n",
       "2  26.0         0   7.9250       3    1       1.0            1        1\n",
       "3  35.0         0  53.1000       1    1       1.0            2        0\n",
       "4  35.0         0   8.0500       3    0       0.0            1        1"
      ]
     },
     "execution_count": 26,
     "metadata": {},
     "output_type": "execute_result"
    }
   ],
   "source": [
    "#特徴量エンジニアリング後のデータについてtrainとtestにわける\n",
    "train = data[:len(train)]\n",
    "test = data[len(train):]\n",
    "\n",
    "print(train.shape)\n",
    "train.head()"
   ]
  },
  {
   "cell_type": "code",
   "execution_count": 31,
   "metadata": {},
   "outputs": [
    {
     "name": "stdout",
     "output_type": "stream",
     "text": [
      "x_train:(891, 7)\n",
      "y_train:(891,)\n",
      "x_test:(418, 7)\n",
      "y_test:(418,)\n"
     ]
    },
    {
     "data": {
      "text/html": [
       "<div>\n",
       "<style scoped>\n",
       "    .dataframe tbody tr th:only-of-type {\n",
       "        vertical-align: middle;\n",
       "    }\n",
       "\n",
       "    .dataframe tbody tr th {\n",
       "        vertical-align: top;\n",
       "    }\n",
       "\n",
       "    .dataframe thead th {\n",
       "        text-align: right;\n",
       "    }\n",
       "</style>\n",
       "<table border=\"1\" class=\"dataframe\">\n",
       "  <thead>\n",
       "    <tr style=\"text-align: right;\">\n",
       "      <th></th>\n",
       "      <th>Age</th>\n",
       "      <th>Embarked</th>\n",
       "      <th>Fare</th>\n",
       "      <th>Pclass</th>\n",
       "      <th>Sex</th>\n",
       "      <th>Family_Size</th>\n",
       "      <th>IsAlone</th>\n",
       "    </tr>\n",
       "  </thead>\n",
       "  <tbody>\n",
       "    <tr>\n",
       "      <th>0</th>\n",
       "      <td>22.0</td>\n",
       "      <td>0</td>\n",
       "      <td>7.2500</td>\n",
       "      <td>3</td>\n",
       "      <td>0</td>\n",
       "      <td>2</td>\n",
       "      <td>0</td>\n",
       "    </tr>\n",
       "    <tr>\n",
       "      <th>1</th>\n",
       "      <td>38.0</td>\n",
       "      <td>1</td>\n",
       "      <td>71.2833</td>\n",
       "      <td>1</td>\n",
       "      <td>1</td>\n",
       "      <td>2</td>\n",
       "      <td>0</td>\n",
       "    </tr>\n",
       "    <tr>\n",
       "      <th>2</th>\n",
       "      <td>26.0</td>\n",
       "      <td>0</td>\n",
       "      <td>7.9250</td>\n",
       "      <td>3</td>\n",
       "      <td>1</td>\n",
       "      <td>1</td>\n",
       "      <td>1</td>\n",
       "    </tr>\n",
       "    <tr>\n",
       "      <th>3</th>\n",
       "      <td>35.0</td>\n",
       "      <td>0</td>\n",
       "      <td>53.1000</td>\n",
       "      <td>1</td>\n",
       "      <td>1</td>\n",
       "      <td>2</td>\n",
       "      <td>0</td>\n",
       "    </tr>\n",
       "    <tr>\n",
       "      <th>4</th>\n",
       "      <td>35.0</td>\n",
       "      <td>0</td>\n",
       "      <td>8.0500</td>\n",
       "      <td>3</td>\n",
       "      <td>0</td>\n",
       "      <td>1</td>\n",
       "      <td>1</td>\n",
       "    </tr>\n",
       "  </tbody>\n",
       "</table>\n",
       "</div>"
      ],
      "text/plain": [
       "    Age  Embarked     Fare  Pclass  Sex  Family_Size  IsAlone\n",
       "0  22.0         0   7.2500       3    0            2        0\n",
       "1  38.0         1  71.2833       1    1            2        0\n",
       "2  26.0         0   7.9250       3    1            1        1\n",
       "3  35.0         0  53.1000       1    1            2        0\n",
       "4  35.0         0   8.0500       3    0            1        1"
      ]
     },
     "execution_count": 31,
     "metadata": {},
     "output_type": "execute_result"
    }
   ],
   "source": [
    "#x_train：学習データ、正解ラベル(Survived)の列は削除\n",
    "#y_train：学習データ、正解ラベル(Survived)のみとする\n",
    "#x_test：検証データ、正解ラベル(Survived)の列は削除\n",
    "\n",
    "y_train = train['Survived']\n",
    "X_train = train.drop('Survived', axis = 1)\n",
    "X_test = test.drop('Survived', axis = 1)\n",
    "y_test = test['Survived']\n",
    "\n",
    "#確認\n",
    "print(\"x_train:\" + str(X_train.shape))\n",
    "print(\"y_train:\" + str(y_train.shape))\n",
    "print(\"x_test:\" + str(X_test.shape))\n",
    "print(\"y_test:\" + str(y_test.shape))\n",
    "X_train.head()"
   ]
  },
  {
   "cell_type": "code",
   "execution_count": 17,
   "metadata": {},
   "outputs": [],
   "source": [
    "# lightGBM\n",
    "import lightgbm as lgb\n",
    "from sklearn.model_selection import train_test_split\n",
    "from sklearn.metrics import accuracy_score"
   ]
  },
  {
   "cell_type": "code",
   "execution_count": 18,
   "metadata": {},
   "outputs": [
    {
     "name": "stdout",
     "output_type": "stream",
     "text": [
      "Training until validation scores don't improve for 20 rounds.\n",
      "[10]\tvalid_0's binary_logloss: 0.453937\n",
      "[20]\tvalid_0's binary_logloss: 0.407842\n",
      "[30]\tvalid_0's binary_logloss: 0.392726\n",
      "[40]\tvalid_0's binary_logloss: 0.398816\n",
      "[50]\tvalid_0's binary_logloss: 0.402984\n",
      "Early stopping, best iteration is:\n",
      "[30]\tvalid_0's binary_logloss: 0.392726\n"
     ]
    }
   ],
   "source": [
    "\n",
    "#データセットを訓練データとテストデータに分ける\n",
    "#[train_test_split]は訓練データ:75%、テストデータ:25%に分割になる\n",
    "#x_train,x_test,y_train,y_test = train_test_split(iris_data['data'],iris_data['target'],random_state=0)\n",
    "\n",
    "\n",
    "# X_trainとY_trainをtrainとvalidに分割\n",
    "train_x, valid_x, train_y, valid_y = train_test_split(X_train, y_train, test_size=0.33, random_state=0)\n",
    "\n",
    "# LightGBMの分類器をインスタンス化\n",
    "gbm = lgb.LGBMClassifier(objective='binary')\n",
    "\n",
    "# trainとvalidを指定し学習\n",
    "gbm.fit(train_x, train_y, eval_set = [(valid_x, valid_y)],\n",
    "        early_stopping_rounds=20,  # 20回連続でlossが下がらなかったら終了\n",
    "        verbose=10  # 10round毎に、lossを表示\n",
    ") ;"
   ]
  },
  {
   "cell_type": "code",
   "execution_count": 14,
   "metadata": {},
   "outputs": [
    {
     "name": "stdout",
     "output_type": "stream",
     "text": [
      "score 82.71 %\n"
     ]
    }
   ],
   "source": [
    "# valid_xについて推論\n",
    "oof = gbm.predict(valid_x, num_iteration=gbm.best_iteration_)  # oofはout of fold\n",
    "print('score', round(accuracy_score(valid_y, oof)*100,2), '%')  # 正解率の表示\n",
    "\n",
    "# out of foldは学習に使っているデータ以外の予測"
   ]
  },
  {
   "cell_type": "code",
   "execution_count": 37,
   "metadata": {},
   "outputs": [
    {
     "name": "stdout",
     "output_type": "stream",
     "text": [
      "score 90.19 %\n"
     ]
    }
   ],
   "source": [
    "# testの予測\n",
    "y_pred = gbm.predict(X_test, num_iteration=gbm.best_iteration_)  # testの予測\n",
    "y_true = gender_submission['Survived']\n",
    "\n",
    "print('score', round(accuracy_score(y_true, y_pred)*100,2), '%')"
   ]
  },
  {
   "cell_type": "code",
   "execution_count": 38,
   "metadata": {},
   "outputs": [
    {
     "data": {
      "text/plain": [
       "{'boosting_type': 'gbdt',\n",
       " 'class_weight': None,\n",
       " 'colsample_bytree': 1.0,\n",
       " 'importance_type': 'split',\n",
       " 'learning_rate': 0.1,\n",
       " 'max_depth': -1,\n",
       " 'min_child_samples': 20,\n",
       " 'min_child_weight': 0.001,\n",
       " 'min_split_gain': 0.0,\n",
       " 'n_estimators': 100,\n",
       " 'n_jobs': -1,\n",
       " 'num_leaves': 31,\n",
       " 'objective': 'binary',\n",
       " 'random_state': None,\n",
       " 'reg_alpha': 0.0,\n",
       " 'reg_lambda': 0.0,\n",
       " 'silent': True,\n",
       " 'subsample': 1.0,\n",
       " 'subsample_for_bin': 200000,\n",
       " 'subsample_freq': 0}"
      ]
     },
     "execution_count": 38,
     "metadata": {},
     "output_type": "execute_result"
    }
   ],
   "source": [
    "#パラメータ調整\n",
    "gbm.get_params()"
   ]
  },
  {
   "cell_type": "code",
   "execution_count": 39,
   "metadata": {},
   "outputs": [
    {
     "name": "stdout",
     "output_type": "stream",
     "text": [
      "0.8395061728395061\n",
      "{'max_depth': 4, 'reg_alpha': 1, 'reg_lambda': 0}\n"
     ]
    }
   ],
   "source": [
    "from sklearn.model_selection import GridSearchCV\n",
    "\n",
    "gbm = lgb.LGBMClassifier(objective='binary')\n",
    "\n",
    "# 試行するパラメータを羅列する\n",
    "params = {\n",
    "    'max_depth': [2, 3, 4, 5],\n",
    "    'reg_alpha': [0, 1, 10, 100],\n",
    "    'reg_lambda': [0, 1, 10, 100],\n",
    "}\n",
    "\n",
    "grid_search = GridSearchCV(\n",
    "                           gbm,  # 分類器を渡す\n",
    "                           param_grid=params,  # 試行してほしいパラメータを渡す\n",
    "                           cv=3,  # 3分割交差検証でスコアを確認\n",
    "                          )\n",
    "\n",
    "grid_search.fit(X_train, y_train)  # データを渡す\n",
    "\n",
    "print(grid_search.best_score_)  # ベストスコアを表示\n",
    "print(grid_search.best_params_)  # ベストスコアのパラメータを表示"
   ]
  },
  {
   "cell_type": "code",
   "execution_count": 51,
   "metadata": {},
   "outputs": [
    {
     "data": {
      "text/html": [
       "<div>\n",
       "<style scoped>\n",
       "    .dataframe tbody tr th:only-of-type {\n",
       "        vertical-align: middle;\n",
       "    }\n",
       "\n",
       "    .dataframe tbody tr th {\n",
       "        vertical-align: top;\n",
       "    }\n",
       "\n",
       "    .dataframe thead th {\n",
       "        text-align: right;\n",
       "    }\n",
       "</style>\n",
       "<table border=\"1\" class=\"dataframe\">\n",
       "  <thead>\n",
       "    <tr style=\"text-align: right;\">\n",
       "      <th></th>\n",
       "      <th>Age</th>\n",
       "      <th>Embarked</th>\n",
       "      <th>Fare</th>\n",
       "      <th>Pclass</th>\n",
       "      <th>Sex</th>\n",
       "      <th>Family_Size</th>\n",
       "      <th>IsAlone</th>\n",
       "    </tr>\n",
       "  </thead>\n",
       "  <tbody>\n",
       "    <tr>\n",
       "      <th>0</th>\n",
       "      <td>22.0</td>\n",
       "      <td>0</td>\n",
       "      <td>7.2500</td>\n",
       "      <td>3</td>\n",
       "      <td>0</td>\n",
       "      <td>2</td>\n",
       "      <td>0</td>\n",
       "    </tr>\n",
       "    <tr>\n",
       "      <th>1</th>\n",
       "      <td>38.0</td>\n",
       "      <td>1</td>\n",
       "      <td>71.2833</td>\n",
       "      <td>1</td>\n",
       "      <td>1</td>\n",
       "      <td>2</td>\n",
       "      <td>0</td>\n",
       "    </tr>\n",
       "    <tr>\n",
       "      <th>2</th>\n",
       "      <td>26.0</td>\n",
       "      <td>0</td>\n",
       "      <td>7.9250</td>\n",
       "      <td>3</td>\n",
       "      <td>1</td>\n",
       "      <td>1</td>\n",
       "      <td>1</td>\n",
       "    </tr>\n",
       "    <tr>\n",
       "      <th>3</th>\n",
       "      <td>35.0</td>\n",
       "      <td>0</td>\n",
       "      <td>53.1000</td>\n",
       "      <td>1</td>\n",
       "      <td>1</td>\n",
       "      <td>2</td>\n",
       "      <td>0</td>\n",
       "    </tr>\n",
       "    <tr>\n",
       "      <th>4</th>\n",
       "      <td>35.0</td>\n",
       "      <td>0</td>\n",
       "      <td>8.0500</td>\n",
       "      <td>3</td>\n",
       "      <td>0</td>\n",
       "      <td>1</td>\n",
       "      <td>1</td>\n",
       "    </tr>\n",
       "  </tbody>\n",
       "</table>\n",
       "</div>"
      ],
      "text/plain": [
       "    Age  Embarked     Fare  Pclass  Sex  Family_Size  IsAlone\n",
       "0  22.0         0   7.2500       3    0            2        0\n",
       "1  38.0         1  71.2833       1    1            2        0\n",
       "2  26.0         0   7.9250       3    1            1        1\n",
       "3  35.0         0  53.1000       1    1            2        0\n",
       "4  35.0         0   8.0500       3    0            1        1"
      ]
     },
     "execution_count": 51,
     "metadata": {},
     "output_type": "execute_result"
    }
   ],
   "source": [
    "# 3分割交差検証を指定し、インスタンス化\n",
    "from sklearn.model_selection import KFold\n",
    "kf = KFold(n_splits=3)  # 3分割交差検証のためにインスタンス化\n",
    "\n",
    "# スコアとモデルを格納するリスト\n",
    "score_list = []\n",
    "score_list2 = []\n",
    "test_pred = np.zeros((len(test), 3))\n",
    "\n",
    "X_train.head()\n",
    "#y_train\n",
    "\n"
   ]
  },
  {
   "cell_type": "code",
   "execution_count": 52,
   "metadata": {},
   "outputs": [
    {
     "name": "stdout",
     "output_type": "stream",
     "text": [
      "fold1 start\n",
      "Training until validation scores don't improve for 20 rounds.\n",
      "Early stopping, best iteration is:\n",
      "[30]\tvalid_0's binary_logloss: 0.457991\n",
      "fold2 start\n",
      "Training until validation scores don't improve for 20 rounds.\n",
      "Early stopping, best iteration is:\n",
      "[35]\tvalid_0's binary_logloss: 0.405636\n",
      "fold3 start\n",
      "Training until validation scores don't improve for 20 rounds.\n",
      "Early stopping, best iteration is:\n",
      "[60]\tvalid_0's binary_logloss: 0.384793\n",
      "[80.81, 83.84, 82.83] 平均score 82.49333333333334\n",
      "[90.19, 90.19, 90.19] 平均score2 90.19\n"
     ]
    }
   ],
   "source": [
    "#y_pred = gbm.predict(X_test, num_iteration=gbm.best_iteration_)  # testの予測\n",
    "#y_true = gender_submission['Survived']\n",
    "#print('score', round(accuracy_score(y_true, y_pred)*100,2), '%')\n",
    "\n",
    "for fold_, (train_index, valid_index) in enumerate(kf.split(X_train, y_train)):\n",
    "    train_x = X_train.iloc[train_index]\n",
    "    valid_x = X_train.iloc[valid_index]\n",
    "    train_y = y_train[train_index]\n",
    "    valid_y = y_train[valid_index]\n",
    "    \n",
    "    print(f'fold{fold_ + 1} start')\n",
    "\n",
    "    #GridSerchCVの結果はここに入れる\n",
    "    gbm = lgb.LGBMClassifier(objective='binary', max_depth=4, reg_alpha=1,\n",
    "                             reg_lambda=0)\n",
    "    gbm.fit(train_x, train_y,\n",
    "            eval_set = [(valid_x, valid_y)],\n",
    "            early_stopping_rounds=20,\n",
    "            verbose= -1)\n",
    "    \n",
    "    oof = gbm.predict(valid_x, num_iteration=gbm.best_iteration_)\n",
    "    score_list.append(round(accuracy_score(valid_y, oof)*100,2))\n",
    "    #test_pred[:, fold_] = gbm.predict(test, num_iteration=gbm.best_iteration_)\n",
    "    test_pred = gbm.predict(X_test, num_iteration=gbm.best_iteration_)\n",
    "    score_list2.append(round(accuracy_score(y_true, y_pred)*100,2))\n",
    "    #print(f'fold{fold_ + 1} end\\n' )\n",
    "print(score_list, '平均score', np.mean(score_list))\n",
    "print(score_list2, '平均score2', np.mean(score_list2))\n",
    "\n",
    "#pred = (np.mean(test_pred, axis=1) > 0.5).astype(int)\n",
    "#sample_submission['Survived'] = pred\n",
    "#sample_submission.to_csv('glid_search.csv', index=False)"
   ]
  },
  {
   "cell_type": "code",
   "execution_count": null,
   "metadata": {},
   "outputs": [],
   "source": []
  }
 ],
 "metadata": {
  "kernelspec": {
   "display_name": "Python 3",
   "language": "python",
   "name": "python3"
  },
  "language_info": {
   "codemirror_mode": {
    "name": "ipython",
    "version": 3
   },
   "file_extension": ".py",
   "mimetype": "text/x-python",
   "name": "python",
   "nbconvert_exporter": "python",
   "pygments_lexer": "ipython3",
   "version": "3.6.8"
  }
 },
 "nbformat": 4,
 "nbformat_minor": 2
}
